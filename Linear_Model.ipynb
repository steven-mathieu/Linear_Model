{
 "cells": [
  {
   "cell_type": "code",
   "execution_count": 3,
   "id": "552790ba-c67b-4a01-be76-b409dbbdf806",
   "metadata": {},
   "outputs": [
    {
     "name": "stdout",
     "output_type": "stream",
     "text": [
      "Accuracy: 0.88\n",
      "\n",
      "Confusion Matrix:\n",
      "Predicted    -1     1\n",
      "Actual               \n",
      "-1         5259   484\n",
      " 1          707  3550\n",
      "\n",
      "Expected economic gain: $755400\n"
     ]
    }
   ],
   "source": [
    "import pandas as pd\n",
    "\n",
    "# Load the data\n",
    "df = pd.read_csv('hw3.data1.csv')\n",
    "\n",
    "# Define the model\n",
    "def predict(row):\n",
    "    y = 24*row[0] + -15*row[1] + -38*row[2] + -7*row[3] + -41*row[4] + 35*row[5] + 0*row[6] + -2*row[7] + 19*row[8] + 33*row[9] + -3*row[10] + 7*row[11] + 3*row[12] + -47*row[13] + 26*row[14] + 10*row[15] + 40*row[16] + -1*row[17] + 3*row[18] + 0*row[19] + -6\n",
    "    return 1 if y > 0 else -1\n",
    "\n",
    "# Make predictions on the dataset\n",
    "df['prediction'] = df.apply(predict, axis=1)\n",
    "\n",
    "# Calculate the accuracy\n",
    "correct_predictions = (df['label'] == df['prediction']).sum()\n",
    "accuracy = correct_predictions / len(df)\n",
    "print(f\"Accuracy: {accuracy:.2f}\")\n",
    "\n",
    "# Calculate the confusion matrix\n",
    "confusion_matrix = pd.crosstab(df['label'], df['prediction'], rownames=['Actual'], colnames=['Predicted'])\n",
    "print(\"\\nConfusion Matrix:\")\n",
    "print(confusion_matrix)\n",
    "\n",
    "# Calculate the expected economic gain\n",
    "false_negative_cost = 1000\n",
    "false_positive_cost = 100\n",
    "true_negative_cost = 0\n",
    "true_positive_cost = 0\n",
    "\n",
    "true_negatives = confusion_matrix.loc[-1, -1]\n",
    "false_negatives = confusion_matrix.loc[1, -1]\n",
    "true_positives = confusion_matrix.loc[1, 1]\n",
    "false_positives = confusion_matrix.loc[-1, 1]\n",
    "\n",
    "expected_economic_gain = (true_negative_cost * true_negatives\n",
    "                          + false_negative_cost * false_negatives\n",
    "                          + true_positive_cost * true_positives\n",
    "                          + false_positive_cost * false_positives)\n",
    "print(f\"\\nExpected economic gain: ${expected_economic_gain}\")"
   ]
  },
  {
   "cell_type": "code",
   "execution_count": null,
   "id": "42bf97f1-fed0-4b75-9fe0-bbcbbd7ef868",
   "metadata": {},
   "outputs": [],
   "source": []
  },
  {
   "cell_type": "code",
   "execution_count": 15,
   "id": "6b1133c6-ea96-4e3e-b51b-e403ad0e3857",
   "metadata": {},
   "outputs": [
    {
     "name": "stdout",
     "output_type": "stream",
     "text": [
      "Accuracy: 0.63\n",
      "\n",
      "Confusion Matrix:\n",
      "Predicted    -1     1\n",
      "Actual               \n",
      "-1         4023  1720\n",
      " 1         1972  2285\n",
      "\n",
      "Expected economic gain: $2144000\n"
     ]
    }
   ],
   "source": [
    "import pandas as pd\n",
    "\n",
    "# Load the data\n",
    "df = pd.read_csv('hw3.data1.csv')\n",
    "\n",
    "# Define the model\n",
    "def predict(row):\n",
    "    y = -7*row[3] + 35*row[5] + -1*row[17] + 3*row[18] + 40*row[16] - 6\n",
    "    return 1 if y > 0 else -1\n",
    "\n",
    "# Make predictions on the dataset\n",
    "df['prediction'] = df.apply(predict, axis=1)\n",
    "\n",
    "# Calculate the accuracy\n",
    "correct_predictions = (df['label'] == df['prediction']).sum()\n",
    "accuracy = correct_predictions / len(df)\n",
    "print(f\"Accuracy: {accuracy:.2f}\")\n",
    "\n",
    "# Calculate the confusion matrix\n",
    "confusion_matrix = pd.crosstab(df['label'], df['prediction'], rownames=['Actual'], colnames=['Predicted'])\n",
    "print(\"\\nConfusion Matrix:\")\n",
    "print(confusion_matrix)\n",
    "\n",
    "# Calculate the expected economic gain\n",
    "false_negative_cost = 1000\n",
    "false_positive_cost = 100\n",
    "true_negative_cost = 0\n",
    "true_positive_cost = 0\n",
    "\n",
    "true_negatives = confusion_matrix.loc[-1, -1]\n",
    "false_negatives = confusion_matrix.loc[1, -1]\n",
    "true_positives = confusion_matrix.loc[1, 1]\n",
    "false_positives = confusion_matrix.loc[-1, 1]\n",
    "\n",
    "expected_economic_gain = (true_negative_cost * true_negatives\n",
    "                          + false_negative_cost * false_negatives\n",
    "                          + true_positive_cost * true_positives\n",
    "                          + false_positive_cost * false_positives)\n",
    "print(f\"\\nExpected economic gain: ${expected_economic_gain}\")"
   ]
  }
 ],
 "metadata": {
  "kernelspec": {
   "display_name": "Python 3 (ipykernel)",
   "language": "python",
   "name": "python3"
  },
  "language_info": {
   "codemirror_mode": {
    "name": "ipython",
    "version": 3
   },
   "file_extension": ".py",
   "mimetype": "text/x-python",
   "name": "python",
   "nbconvert_exporter": "python",
   "pygments_lexer": "ipython3",
   "version": "3.9.13"
  }
 },
 "nbformat": 4,
 "nbformat_minor": 5
}
